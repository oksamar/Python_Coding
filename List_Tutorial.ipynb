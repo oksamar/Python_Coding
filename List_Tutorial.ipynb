{
 "cells": [
  {
   "cell_type": "code",
   "execution_count": null,
   "metadata": {},
   "outputs": [],
   "source": [
    "\"\"\"\n",
    "Created on Wed Sep 27 12:24:34 2023\n",
    "\n",
    "@author: SAMARJEET\n",
    "\n",
    "Basics about List.\n",
    "\"\"\""
   ]
  },
  {
   "cell_type": "code",
   "execution_count": 1,
   "metadata": {},
   "outputs": [
    {
     "name": "stdout",
     "output_type": "stream",
     "text": [
      "['Foundation', 'on', 'Data', 'Science']\n",
      "<class 'list'>\n"
     ]
    }
   ],
   "source": [
    "course = 'Foundation on Data Science'\n",
    "# Split is a function used with string and store the items in a list.\n",
    "items = course.split()\n",
    "\n",
    "print(items)\n",
    "print(type(items))"
   ]
  },
  {
   "cell_type": "code",
   "execution_count": 2,
   "metadata": {},
   "outputs": [
    {
     "name": "stdout",
     "output_type": "stream",
     "text": [
      "Foundation\n",
      "Foundation\n",
      "on\n",
      "on\n",
      "Science\n",
      "Science\n"
     ]
    }
   ],
   "source": [
    "# Accessing individual elements of the list.\n",
    "print(items[0])\n",
    "print(items[-4])\n",
    "\n",
    "print(items[1])\n",
    "print(items[-3])\n",
    "\n",
    "print(items[3])\n",
    "print(items[-1])"
   ]
  },
  {
   "cell_type": "code",
   "execution_count": 3,
   "metadata": {},
   "outputs": [
    {
     "name": "stdout",
     "output_type": "stream",
     "text": [
      "<class 'str'>\n"
     ]
    }
   ],
   "source": [
    "# Here, the type of each item in a list is a string.\n",
    "print(type(items[-1]))\n"
   ]
  },
  {
   "cell_type": "code",
   "execution_count": 4,
   "metadata": {},
   "outputs": [
    {
     "name": "stdout",
     "output_type": "stream",
     "text": [
      "FOUNDATION\n",
      "data\n"
     ]
    }
   ],
   "source": [
    "# Converting a string into lower or upper case.\n",
    "print(items[0].upper())\n",
    "print(items[2].lower())\n"
   ]
  },
  {
   "cell_type": "code",
   "execution_count": 5,
   "metadata": {},
   "outputs": [
    {
     "name": "stdout",
     "output_type": "stream",
     "text": [
      "['Foundation', 'on']\n",
      "['on', 'Data']\n",
      "['on', 'Data', 'Science']\n",
      "<class 'list'>\n"
     ]
    }
   ],
   "source": [
    "# Accessing more than one element of the list.\n",
    "print(items[:2])\n",
    "print(items[1:3])\n",
    "print(items[1:])\n",
    "\n",
    "new_list = items[1:]\n",
    "print(type(new_list))"
   ]
  },
  {
   "cell_type": "code",
   "execution_count": 6,
   "metadata": {},
   "outputs": [],
   "source": [
    "# list can contain different types of items.\n",
    "gen_list = [1, 2, 3, 4, 'Samar', 'Jeet', \"Das\", 35.25, True]\n"
   ]
  },
  {
   "cell_type": "code",
   "execution_count": 7,
   "metadata": {},
   "outputs": [
    {
     "name": "stdout",
     "output_type": "stream",
     "text": [
      "[3, 4, 'Samar']\n"
     ]
    }
   ],
   "source": [
    "# This will give a list.\n",
    "print(gen_list[2:5])\n"
   ]
  },
  {
   "cell_type": "code",
   "execution_count": 8,
   "metadata": {},
   "outputs": [
    {
     "name": "stdout",
     "output_type": "stream",
     "text": [
      "<class 'int'>\n"
     ]
    }
   ],
   "source": [
    "# It will give an integer type.\n",
    "print(type(gen_list[2]))\n"
   ]
  },
  {
   "cell_type": "code",
   "execution_count": 9,
   "metadata": {},
   "outputs": [
    {
     "name": "stdout",
     "output_type": "stream",
     "text": [
      "<class 'str'>\n"
     ]
    }
   ],
   "source": [
    "# It will give a string type.\n",
    "print(type(gen_list[4]))\n"
   ]
  },
  {
   "cell_type": "code",
   "execution_count": 10,
   "metadata": {},
   "outputs": [
    {
     "name": "stdout",
     "output_type": "stream",
     "text": [
      "<class 'bool'>\n"
     ]
    }
   ],
   "source": [
    "# It will give a boolean type.\n",
    "print(type(gen_list[-1]))\n"
   ]
  },
  {
   "cell_type": "code",
   "execution_count": 11,
   "metadata": {},
   "outputs": [
    {
     "name": "stdout",
     "output_type": "stream",
     "text": [
      "14\n"
     ]
    }
   ],
   "source": [
    "# Adding 10 to an integer element.\n",
    "print(gen_list[3] + 10)\n"
   ]
  },
  {
   "cell_type": "code",
   "execution_count": 12,
   "metadata": {},
   "outputs": [
    {
     "name": "stdout",
     "output_type": "stream",
     "text": [
      "1\n",
      "2\n",
      "3\n",
      "4\n",
      "Samar\n",
      "Jeet\n",
      "Das\n",
      "35.25\n",
      "True\n"
     ]
    }
   ],
   "source": [
    "# Iterate through each element of the list and print it.\n",
    "for item in gen_list:\n",
    "    print(item)\n"
   ]
  },
  {
   "cell_type": "code",
   "execution_count": 13,
   "metadata": {},
   "outputs": [
    {
     "name": "stdout",
     "output_type": "stream",
     "text": [
      "9\n"
     ]
    }
   ],
   "source": [
    "# Another way of iterating through the list. Here, also we will get the index.\n",
    "length = len(gen_list)\n",
    "print(length)\n"
   ]
  },
  {
   "cell_type": "code",
   "execution_count": 14,
   "metadata": {},
   "outputs": [
    {
     "name": "stdout",
     "output_type": "stream",
     "text": [
      "0 1\n",
      "1 2\n",
      "2 3\n",
      "3 4\n",
      "4 Samar\n",
      "5 Jeet\n",
      "6 Das\n",
      "7 35.25\n",
      "8 True\n"
     ]
    }
   ],
   "source": [
    "for i in range(length):\n",
    "    print(i, gen_list[i])\n"
   ]
  },
  {
   "cell_type": "code",
   "execution_count": 15,
   "metadata": {},
   "outputs": [
    {
     "name": "stdout",
     "output_type": "stream",
     "text": [
      "[1, 2, 3, 4, 'Lincoln', 'Jeet', 'Das', 35.25, True]\n"
     ]
    }
   ],
   "source": [
    "# List can be mutable.\n",
    "gen_list[4] = 'Lincoln'\n",
    "print(gen_list)\n"
   ]
  },
  {
   "cell_type": "code",
   "execution_count": 16,
   "metadata": {},
   "outputs": [
    {
     "name": "stdout",
     "output_type": "stream",
     "text": [
      "[1, 2, 3, 4, 'Lincoln', 'Jeet', 'Das', 35.25, True, 'samar@idonotknow.com']\n",
      "[1, 2, 3, 4, 'Lincoln', 'Jeet', 'Das', 35.25, True, 'samar@idonotknow.com', 176102005]\n"
     ]
    }
   ],
   "source": [
    "# Append item to the list.\n",
    "email = 'samar@idonotknow.com'\n",
    "gen_list.append(email)\n",
    "print(gen_list)\n",
    "\n",
    "gen_list.append(176102005)\n",
    "print(gen_list)"
   ]
  },
  {
   "cell_type": "code",
   "execution_count": 17,
   "metadata": {},
   "outputs": [],
   "source": [
    "# Multi-dimensional lists.\n",
    "\n",
    "# let's say i want to save the data record of each student in a list format.\n",
    "# the record contains: name, roll_no, year, wheather stipend getting or not.\n",
    "\n",
    "# It is a 3- dimensional list.\n",
    "student_record = [['Samar',1725,4,True],['Sibasis', 1645, 5, False],\n",
    "                  ['Salman', 1535, 3, True]]\n"
   ]
  },
  {
   "cell_type": "code",
   "execution_count": 18,
   "metadata": {},
   "outputs": [
    {
     "name": "stdout",
     "output_type": "stream",
     "text": [
      "['Samar', 1725, 4, True]\n"
     ]
    }
   ],
   "source": [
    "# Accessing first student record.\n",
    "print(student_record[0])\n"
   ]
  },
  {
   "cell_type": "code",
   "execution_count": 19,
   "metadata": {},
   "outputs": [
    {
     "name": "stdout",
     "output_type": "stream",
     "text": [
      "['Samar', 1725]\n"
     ]
    }
   ],
   "source": [
    "# Acessing first two elements of the first student record.\n",
    "print(student_record[0][:2])\n"
   ]
  },
  {
   "cell_type": "code",
   "execution_count": 20,
   "metadata": {},
   "outputs": [
    {
     "name": "stdout",
     "output_type": "stream",
     "text": [
      "[['Samar', 1725, 4, True], ['Sibasis', 1645, 5, False], ['Salman', 1535, 3, True, 'salman@foodtrunk.com']]\n"
     ]
    }
   ],
   "source": [
    "# Append more items to the last student.\n",
    "student_record[2].append('salman@foodtrunk.com')\n",
    "print(student_record)\n"
   ]
  },
  {
   "cell_type": "code",
   "execution_count": 21,
   "metadata": {},
   "outputs": [
    {
     "name": "stdout",
     "output_type": "stream",
     "text": [
      "[1, 2]\n"
     ]
    }
   ],
   "source": [
    "# Deep copy of list.\n",
    "A = [1,2]\n",
    "B = A\n",
    "\n",
    "print(A)\n",
    "A[0] = A[0] + 8\n"
   ]
  },
  {
   "cell_type": "code",
   "execution_count": 22,
   "metadata": {},
   "outputs": [
    {
     "name": "stdout",
     "output_type": "stream",
     "text": [
      "[9, 2]\n",
      "[9, 2]\n"
     ]
    }
   ],
   "source": [
    "print(A)\n",
    "# Here, B is changed according to the change in A and vice-versa.\n",
    "print(B)\n"
   ]
  },
  {
   "cell_type": "code",
   "execution_count": 23,
   "metadata": {},
   "outputs": [
    {
     "name": "stdout",
     "output_type": "stream",
     "text": [
      "[4, 2]\n",
      "[1, 2]\n"
     ]
    }
   ],
   "source": [
    "# Now again define A.\n",
    "A = [1,2]\n",
    "\n",
    "# Deep copy\n",
    "B = list(A)\n",
    "\n",
    "A[0] = A[0] + 3\n",
    "\n",
    "print(A)\n",
    "# Now, B is not changed, with the change in A.\n",
    "print(B)"
   ]
  },
  {
   "cell_type": "markdown",
   "metadata": {},
   "source": [
    "# The End of List Tutorial."
   ]
  }
 ],
 "metadata": {
  "kernelspec": {
   "display_name": "base",
   "language": "python",
   "name": "python3"
  },
  "language_info": {
   "codemirror_mode": {
    "name": "ipython",
    "version": 3
   },
   "file_extension": ".py",
   "mimetype": "text/x-python",
   "name": "python",
   "nbconvert_exporter": "python",
   "pygments_lexer": "ipython3",
   "version": "3.8.8"
  },
  "orig_nbformat": 4
 },
 "nbformat": 4,
 "nbformat_minor": 2
}
